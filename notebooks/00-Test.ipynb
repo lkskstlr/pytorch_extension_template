{
 "cells": [
  {
   "cell_type": "code",
   "execution_count": 1,
   "id": "bf64d4ac-7e21-40bd-87dd-02a265da1830",
   "metadata": {},
   "outputs": [],
   "source": [
    "import torch\n",
    "\n",
    "from importlib import reload\n",
    "import raytracing_cpp\n",
    "raytracing_cpp = reload(raytracing_cpp) # we can run this cell again after pip install -e . when we made changes in cpp. Sometimes I still have to restart the kernel and I don't know why"
   ]
  },
  {
   "cell_type": "code",
   "execution_count": 2,
   "id": "032a7d98-4bc2-47dc-a05a-b51a710467fa",
   "metadata": {},
   "outputs": [
    {
     "name": "stdout",
     "output_type": "stream",
     "text": [
      "Help on module raytracing_cpp:\n",
      "\n",
      "NAME\n",
      "    raytracing_cpp\n",
      "\n",
      "FUNCTIONS\n",
      "    add(...) method of builtins.PyCapsule instance\n",
      "        add(arg0: at::Tensor, arg1: at::Tensor, arg2: at::Tensor) -> None\n",
      "        \n",
      "        Add two double tensors\n",
      "\n",
      "FILE\n",
      "    /usr/wiss/koestlel/projects/pytorch_extension_template/raytracing_cpp.cpython-310-x86_64-linux-gnu.so\n",
      "\n",
      "\n"
     ]
    }
   ],
   "source": [
    "help(raytracing_cpp)"
   ]
  },
  {
   "cell_type": "code",
   "execution_count": 3,
   "id": "2fe5a2fe-f371-464d-85a0-6288af5c3170",
   "metadata": {},
   "outputs": [
    {
     "name": "stdout",
     "output_type": "stream",
     "text": [
      "Error 0.0\n"
     ]
    }
   ],
   "source": [
    "kw = {'dtype': torch.float64, 'device': torch.device('cpu')}  # Assumed by Cpp\n",
    "\n",
    "a = torch.rand([100, 20], **kw)\n",
    "b = torch.rand([100, 20], **kw)\n",
    "out = torch.empty([100, 20], **kw)\n",
    "\n",
    "raytracing_cpp.add(a, b, out)\n",
    "\n",
    "print(\"Error\", ((out - (a+b))**2).mean().item())"
   ]
  }
 ],
 "metadata": {
  "kernelspec": {
   "display_name": "Python 3 (ipykernel)",
   "language": "python",
   "name": "python3"
  },
  "language_info": {
   "codemirror_mode": {
    "name": "ipython",
    "version": 3
   },
   "file_extension": ".py",
   "mimetype": "text/x-python",
   "name": "python",
   "nbconvert_exporter": "python",
   "pygments_lexer": "ipython3",
   "version": "3.10.4"
  }
 },
 "nbformat": 4,
 "nbformat_minor": 5
}
